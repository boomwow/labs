{
 "cells": [
  {
   "cell_type": "markdown",
   "metadata": {},
   "source": [
    "Mohammed Elmzaghi, Maytte Cadena, Jesus Robayo \n",
    "Mr.Enrico\n",
    "Physics Honors period 3\n",
    "8 December 2016"
   ]
  },
  {
   "cell_type": "code",
   "execution_count": 1,
   "metadata": {
    "collapsed": true
   },
   "outputs": [],
   "source": [
    "%matplotlib inline"
   ]
  },
  {
   "cell_type": "markdown",
   "metadata": {},
   "source": [
    "# Relationship Between the Time of Oscillation and Mass"
   ]
  },
  {
   "cell_type": "markdown",
   "metadata": {},
   "source": [
    "## Introduction"
   ]
  },
  {
   "cell_type": "code",
   "execution_count": null,
   "metadata": {
    "collapsed": true
   },
   "outputs": [],
   "source": []
  },
  {
   "cell_type": "markdown",
   "metadata": {},
   "source": [
    "## Procedure "
   ]
  },
  {
   "cell_type": "code",
   "execution_count": null,
   "metadata": {
    "collapsed": true
   },
   "outputs": [],
   "source": []
  },
  {
   "cell_type": "markdown",
   "metadata": {},
   "source": [
    "## Data and Analysis"
   ]
  },
  {
   "cell_type": "markdown",
   "metadata": {},
   "source": [
    "|Weight(grams)|time | oscillation intervals |\n",
    "|-------------|-------|-------------------|\n",
    "|40       |    |\n",
    "|50         | 1.0   |\n",
    "|70          | 1.25   |\n",
    "|90          |1.5  |\n",
    "|100          |2.25    |\n"
   ]
  },
  {
   "cell_type": "code",
   "execution_count": null,
   "metadata": {
    "collapsed": true
   },
   "outputs": [],
   "source": [
    "import matplotlib.pyplot as plt \n",
    "import numpy as np \n",
    "from scipy.optimize import curve_fit \n",
    "\n",
    "xx= np.linspace (0,700,10)\n",
    "\n",
    "def lm(x,a,b):\n",
    "    return a*x+b\n",
    "\n",
    "x=np.array([0,100,200,300,400,500,600])\n",
    "y=np.array([0.5,1.0,1.25,1.5,2.25,2.5,3])\n",
    "\n",
    "plt.plot(x,y,'co',label='flat surface')\n",
    "plt.plot(x,v,'ro', label='incline surface')\n",
    "\n",
    "a,b= curve_fit(lm,x,y)[0]\n",
    "plt.plot(xx, lm(xx,a,b))\n",
    "print(a,b)\n",
    "\n",
    "plt. ylabel ('force in Newtons')\n",
    "plt. xlabel ('weight in grams')\n",
    "plt.title ('Relationship Between The Force With Weight')\n",
    "plt.legend (loc='lower right')\n",
    "plt.show ()"
   ]
  },
  {
   "cell_type": "markdown",
   "metadata": {},
   "source": [
    "## Conclusion"
   ]
  },
  {
   "cell_type": "code",
   "execution_count": null,
   "metadata": {
    "collapsed": true
   },
   "outputs": [],
   "source": []
  }
 ],
 "metadata": {
  "kernelspec": {
   "display_name": "Python 3",
   "language": "python",
   "name": "python3"
  },
  "language_info": {
   "codemirror_mode": {
    "name": "ipython",
    "version": 3
   },
   "file_extension": ".py",
   "mimetype": "text/x-python",
   "name": "python",
   "nbconvert_exporter": "python",
   "pygments_lexer": "ipython3",
   "version": "3.4.3"
  }
 },
 "nbformat": 4,
 "nbformat_minor": 0
}
