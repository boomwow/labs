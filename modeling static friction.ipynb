{
 "cells": [
  {
   "cell_type": "code",
   "execution_count": 42,
   "metadata": {
    "collapsed": true
   },
   "outputs": [],
   "source": [
    "%matplotlib inline"
   ]
  },
  {
   "cell_type": "markdown",
   "metadata": {},
   "source": [
    "# Understanding Static Friction\n",
    "\n",
    "Mohammed Elmzaghi, Maytte Cadena, Jesus Robayo\n",
    "Period 2/3 Mr. Enrico Physics Honors \n",
    "18 November 2016\n",
    "\n"
   ]
  },
  {
   "cell_type": "markdown",
   "metadata": {
    "collapsed": true
   },
   "source": [
    "## Introduction:\n"
   ]
  },
  {
   "cell_type": "markdown",
   "metadata": {},
   "source": [
    "\n",
    "\n",
    "\n"
   ]
  },
  {
   "cell_type": "markdown",
   "metadata": {},
   "source": [
    "## Procedure:\n",
    "Gather the different weights (100g, 200g, 300g, 400g, 500g, 600g) for intended use and the spring scale. The weight should be placed on a platform such as the one seen in Figure 1. Place the weight onto the scale and measure the amount of Newtons needed to pull the object and exceed the maximum static friction threshold. For each weight, measure the maximum Newtons in which the object will not move and take note of the point where the force applied exceeds the static friction threshold. Record the weights and force from the spring scale."
   ]
  },
  {
   "cell_type": "markdown",
   "metadata": {},
   "source": [
    "## Data Analysis:"
   ]
  },
  {
   "cell_type": "markdown",
   "metadata": {},
   "source": [
    "|Weight(grams)|Force in Newtons|\n",
    "|-------------|-------|\n",
    "|0            | 0.4   |\n",
    "|100          | 0.5   |\n",
    "|200          | 1.0   |\n",
    "|300          |1.25   |\n",
    "|400          |1.5    |\n",
    "|500          |1.75   |\n",
    "|600          |2      |"
   ]
  },
  {
   "cell_type": "code",
   "execution_count": 41,
   "metadata": {
    "collapsed": false
   },
   "outputs": [
    {
     "name": "stdout",
     "output_type": "stream",
     "text": [
      "0.00278571428354 0.364285714284\n"
     ]
    },
    {
     "data": {
      "image/png": "[encoded data removed]",
      "text/plain": [
       "<matplotlib.figure.Figure at 0x7cc5b70>"
      ]
     },
     "metadata": {},
     "output_type": "display_data"
    }
   ],
   "source": [
    "import matplotlib.pyplot as plt \n",
    "import numpy as np \n",
    "from scipy.optimize import curve_fit \n",
    "\n",
    "xx= np.linspace (0,700,10)\n",
    "\n",
    "def lm(x,a,b):\n",
    "    return a*x+b\n",
    "\n",
    "x=np.array([0,100,200,300,400,500,600])\n",
    "y=np.array([0.4,0.5,1.0,1.25,1.5,1.75,2])\n",
    "\n",
    "plt.plot(x,y,'co')\n",
    "a,b= curve_fit(lm,x,y)[0]\n",
    "plt.plot(xx, lm(xx,a,b))\n",
    "print(a,b)\n",
    "plt. ylabel ('force in Newtons')\n",
    "plt. xlabel ('weight in grams')\n",
    "plt.title ('relationship between the force with weight')\n",
    "plt.show ()"
   ]
  },
  {
   "cell_type": "markdown",
   "metadata": {
    "collapsed": true
   },
   "source": [
    "## Conclusion"
   ]
  },
  {
   "cell_type": "code",
   "execution_count": null,
   "metadata": {
    "collapsed": true
   },
   "outputs": [],
   "source": []
  }
 ],
 "metadata": {
  "kernelspec": {
   "display_name": "Python 3",
   "language": "python",
   "name": "python3"
  },
  "language_info": {
   "codemirror_mode": {
    "name": "ipython",
    "version": 3
   },
   "file_extension": ".py",
   "mimetype": "text/x-python",
   "name": "python",
   "nbconvert_exporter": "python",
   "pygments_lexer": "ipython3",
   "version": "3.4.3"
  }
 },
 "nbformat": 4,
 "nbformat_minor": 0
}
