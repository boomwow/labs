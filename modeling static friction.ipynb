{
 "cells": [
  {
   "cell_type": "code",
   "execution_count": null,
   "metadata": {
    "collapsed": true
   },
   "outputs": [],
   "source": [
    "%matplotlib inline\n"
   ]
  },
  {
   "cell_type": "markdown",
   "metadata": {},
   "source": [
    "# Understanding Static Friction\n",
    "\n",
    "Mohammed Elmzaghi, Maytte Cadena, Jesus Robayo\n",
    "Period 2/3 Mr. Enrico Physics Honors \n",
    "18 November 2016\n",
    "\n"
   ]
  },
  {
   "cell_type": "markdown",
   "metadata": {
    "collapsed": true
   },
   "source": [
    "## Introduction:"
   ]
  },
  {
   "cell_type": "markdown",
   "metadata": {},
   "source": [
    "\n",
    "\n",
    "\n"
   ]
  },
  {
   "cell_type": "markdown",
   "metadata": {},
   "source": [
    "## Procedure:\n",
    "Gather the different weights (100g, 200g, 300g, 400g, 500g, 600g) for intended use and the spring scale. The weight should be placed on a platform such as the one seen in Figure 1. Place the weight onto the scale and measure the amount of Newtons needed to pull the object and exceed the maximum static friction threshold. For each weight, measure the maximum Newtons in which the object will not move and take note of the point where the force applied exceeds the static friction threshold. Record the weights and force from the spring scale."
   ]
  },
  {
   "cell_type": "markdown",
   "metadata": {},
   "source": [
    "## Data Analysis:"
   ]
  },
  {
   "cell_type": "markdown",
   "metadata": {},
   "source": [
    "|Weight(grams)|Force in Newtons|\n",
    "|-------------|-------|\n",
    "|0            | 0.4   |\n",
    "|100          | 0.5   |\n",
    "|200          | 1.0   |\n",
    "|300          |1.25   |\n",
    "|400          |1.5    |\n",
    "|500          |1.75   |\n",
    "|600          |2      |"
   ]
  },
  {
   "cell_type": "code",
   "execution_count": null,
   "metadata": {
    "collapsed": true
   },
   "outputs": [],
   "source": [
    "i"
   ]
  }
 ],
 "metadata": {
  "kernelspec": {
   "display_name": "Python 3",
   "language": "python",
   "name": "python3"
  },
  "language_info": {
   "codemirror_mode": {
    "name": "ipython",
    "version": 3
   },
   "file_extension": ".py",
   "mimetype": "text/x-python",
   "name": "python",
   "nbconvert_exporter": "python",
   "pygments_lexer": "ipython3",
   "version": "3.4.3"
  }
 },
 "nbformat": 4,
 "nbformat_minor": 0
}
