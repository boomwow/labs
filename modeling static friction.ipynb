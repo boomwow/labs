{
 "cells": [
  {
   "cell_type": "code",
   "execution_count": 1,
   "metadata": {
    "collapsed": true
   },
   "outputs": [],
   "source": [
    "%matplotlib inline"
   ]
  },
  {
   "cell_type": "markdown",
   "metadata": {},
   "source": [
    "# Understanding Static Friction\n",
    "\n",
    "Mohammed Elmzaghi, Maytte Cadena, Jesus Robayo\n",
    "Period 2/3 Mr. Enrico Physics Honors \n",
    "18 November 2016\n",
    "\n"
   ]
  },
  {
   "cell_type": "markdown",
   "metadata": {
    "collapsed": true
   },
   "source": [
    "## Introduction:\n",
    "Friction is the force that occurs in between the surfaces of two objects that resist motion. Surface is a factor that may increase or decrease friction. Static friction resists motion and will conteract the force applied to it. Once this static friction threshold is surpassed, the object is in motion."
   ]
  },
  {
   "cell_type": "markdown",
   "metadata": {},
   "source": [
    "\n",
    "\n",
    "\n"
   ]
  },
  {
   "cell_type": "markdown",
   "metadata": {},
   "source": [
    "## Procedure:\n",
    "Gather the different weights (100g, 200g, 300g, 400g, 500g, 600g) for intended use and the spring scale. Place the weight onto the scale and measure the amount of Newtons needed to pull the object and exceed the maximum static friction threshold. For each weight, measure the maximum Newtons in which the object will not move and take note of the point where the force applied exceeds the static friction threshold. Record the weights and force from the spring scale."
   ]
  },
  {
   "cell_type": "markdown",
   "metadata": {},
   "source": [
    "## Data Analysis:\n"
   ]
  },
  {
   "cell_type": "markdown",
   "metadata": {},
   "source": [
    "### Flat Surface Measurements"
   ]
  },
  {
   "cell_type": "markdown",
   "metadata": {},
   "source": [
    "|Weight(grams)|Force in Newtons|\n",
    "|-------------|-------|\n",
    "|0            | 0.5   |\n",
    "|100          | 1.0   |\n",
    "|200          | 1.25   |\n",
    "|300          |1.5  |\n",
    "|400          |2.25    |\n",
    "|500          |2.5   |\n",
    "|600          |3    |"
   ]
  },
  {
   "cell_type": "markdown",
   "metadata": {},
   "source": [
    "incline sur\n",
    "\n",
    "\n",
    "|Weight(grams)|Force in Newtons|\n",
    "|-------------|-------|\n",
    "|0            | 0.25  |\n",
    "|100          | 0.14879 |\n",
    "|200          | 1.04759|\n",
    "|300          | 0.94639 |\n",
    "|400          |1.34519   |\n",
    "|500          |1.24399 |\n",
    "|600          |1.892796 |"
   ]
  },
  {
   "cell_type": "code",
   "execution_count": 9,
   "metadata": {
    "collapsed": false
   },
   "outputs": [
    {
     "name": "stdout",
     "output_type": "stream",
     "text": [
      "0.00410714285497 0.482142857142\n",
      "0.00264870999782 0.187493571427\n"
     ]
    },
    {
     "data": {
      "image/png": "[encoded data removed]",
      "text/plain": [
       "<matplotlib.figure.Figure at 0x78f8978>"
      ]
     },
     "metadata": {},
     "output_type": "display_data"
    }
   ],
   "source": [
    "import matplotlib.pyplot as plt \n",
    "import numpy as np \n",
    "from scipy.optimize import curve_fit \n",
    "\n",
    "xx= np.linspace (0,700,10)\n",
    "\n",
    "def lm(x,a,b):\n",
    "    return a*x+b\n",
    "\n",
    "x=np.array([0,100,200,300,400,500,600])\n",
    "y=np.array([0.5,1.0,1.25,1.5,2.25,2.5,3])\n",
    "#u=np.array([0,100,200,300,400,500,600])\n",
    "v=np.array([0.25,0.14879,1.04759,0.94639,1.34519,1.24399,1.892796])\n",
    "\n",
    "plt.plot(x,y,'co',label='flat surface')\n",
    "plt.plot(x,v,'ro', label='incline surface')\n",
    "\n",
    "a,b= curve_fit(lm,x,y)[0]\n",
    "plt.plot(xx, lm(xx,a,b))\n",
    "print(a,b)\n",
    "\n",
    "c,d= curve_fit(lm,x,v)[0]\n",
    "plt.plot(xx, lm(xx,c,d))\n",
    "print(c,d)\n",
    "plt. ylabel ('force in Newtons')\n",
    "plt. xlabel ('weight in grams')\n",
    "plt.title ('Relationship Between The Force With Weight')\n",
    "plt.legend (loc='lower right')\n",
    "plt.show ()"
   ]
  },
  {
   "cell_type": "markdown",
   "metadata": {},
   "source": [
    "#### Model for our flat data:\n",
    "$$y=0.0041x+0.4821$$"
   ]
  },
  {
   "cell_type": "markdown",
   "metadata": {},
   "source": []
  },
  {
   "cell_type": "markdown",
   "metadata": {
    "collapsed": true
   },
   "source": []
  },
  {
   "cell_type": "markdown",
   "metadata": {},
   "source": [
    "#### Model for incline data:\n",
    "$$y=0.0062x+0.1875$$"
   ]
  },
  {
   "cell_type": "markdown",
   "metadata": {
    "collapsed": true
   },
   "source": [
    "## Conclusion:"
   ]
  },
  {
   "cell_type": "markdown",
   "metadata": {
    "collapsed": true
   },
   "source": [
    "In conclusion, we discovered that there is a linear relationship between the weight and the force required to overcome the static friction caused by the surface. The heavier the object, the more force is needed to set the object in motion. When the experiment is conducted at an incline, greater amounts of force is need to overcome the static friction threshold and set the object in motion. When the experiment is conducted at an incline, greater amounts of force are needed to overcome the static friction threshold and set the object in motion. This occurs when the experiment was conducted on an incline plane as oppose to the flat plane."
   ]
  }
 ],
 "metadata": {
  "kernelspec": {
   "display_name": "Python 3",
   "language": "python",
   "name": "python3"
  },
  "language_info": {
   "codemirror_mode": {
    "name": "ipython",
    "version": 3
   },
   "file_extension": ".py",
   "mimetype": "text/x-python",
   "name": "python",
   "nbconvert_exporter": "python",
   "pygments_lexer": "ipython3",
   "version": "3.4.3"
  }
 },
 "nbformat": 4,
 "nbformat_minor": 0
}
